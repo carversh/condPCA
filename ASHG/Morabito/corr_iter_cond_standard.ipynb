{
 "cells": [
  {
   "cell_type": "code",
   "execution_count": 1,
   "metadata": {
    "vscode": {
     "languageId": "r"
    }
   },
   "outputs": [],
   "source": [
    "library(ggplot2)"
   ]
  },
  {
   "cell_type": "code",
   "execution_count": 10,
   "metadata": {
    "vscode": {
     "languageId": "r"
    }
   },
   "outputs": [],
   "source": [
    "stand = read.csv(\"~/Downloads/ATAC/Morabito_ATAC_Standard_PCA_Loadings_3kVargenes_batch_regressed.csv\", row.names=1)[,1:50]\n",
    "cond = read.csv(\"~/Downloads/ATAC/Morabito_ATAC_Conditional_Celltype_PCA_Loadings_3kVargenes_batch_regressed.csv\", row.names=1)[,1:50]\n",
    "ASC = read.csv(\"~/Downloads/ATAC/Morabito_ATAC_Iterative_ASC_PCA_Loadings_3kVargenes_batch_regressed.csv\", row.names=1)[,1:50]\n",
    "EX = read.csv(\"~/Downloads/ATAC/Morabito_ATAC_Iterative_EX_PCA_Loadings_3kVargenes_batch_regressed.csv\", row.names=1)[,1:50]\n",
    "INH = read.csv(\"~/Downloads/ATAC/Morabito_ATAC_Iterative_INH_PCA_Loadings_3kVargenes_batch_regressed.csv\", row.names=1)[,1:50]\n",
    "MG = read.csv(\"~/Downloads/ATAC/Morabito_ATAC_Iterative_MG_PCA_Loadings_3kVargenes_batch_regressed.csv\", row.names=1)[,1:50]\n",
    "ODC = read.csv(\"~/Downloads/ATAC/Morabito_ATAC_Iterative_ODC_PCA_Loadings_3kVargenes_batch_regressed.csv\", row.names=1)[,1:50]\n",
    "OPC = read.csv(\"~/Downloads/ATAC/Morabito_ATAC_Iterative_OPC_PCA_Loadings_3kVargenes_batch_regressed.csv\", row.names=1)[,1:50]\n",
    "PER.END = read.csv(\"~/Downloads/ATAC/Morabito_ATAC_Iterative_PER.END_PCA_Loadings_3kVargenes_batch_regressed.csv\", row.names=1)[,1:50]\n"
   ]
  },
  {
   "cell_type": "code",
   "execution_count": 18,
   "metadata": {
    "vscode": {
     "languageId": "r"
    }
   },
   "outputs": [
    {
     "data": {
      "text/html": [
       "2500"
      ],
      "text/latex": [
       "2500"
      ],
      "text/markdown": [
       "2500"
      ],
      "text/plain": [
       "[1] 2500"
      ]
     },
     "metadata": {},
     "output_type": "display_data"
    }
   ],
   "source": [
    "threshold = 0.2\n",
    "df1 = stand\n",
    "df2 = ASC\n",
    "\n",
    "# compute intersecting genes\n",
    "mutual_genes = intersect(rownames(df1), rownames(df2) )\n",
    "# subset both dataframes\n",
    "df1_mut = df1[mutual_genes,]\n",
    "df2_mut = df2[mutual_genes,]\n",
    "# compute squared correlation\n",
    "corr_matrix = cor(df1_mut,df2_mut)**2\n",
    "# compute maximum squared correlation\n",
    "\n",
    "\n",
    "length(sapply(corr_matrix, max, na.rm = TRUE) )"
   ]
  },
  {
   "cell_type": "code",
   "execution_count": 21,
   "metadata": {
    "vscode": {
     "languageId": "r"
    }
   },
   "outputs": [
    {
     "data": {
      "text/html": [
       "<table class=\"dataframe\">\n",
       "<caption>A data.frame: 50 x 1</caption>\n",
       "<thead>\n",
       "\t<tr><th></th><th scope=col>apply.corr_matrix..2..max.</th></tr>\n",
       "\t<tr><th></th><th scope=col>&lt;dbl&gt;</th></tr>\n",
       "</thead>\n",
       "<tbody>\n",
       "\t<tr><th scope=row>PC_1</th><td>0.68526809</td></tr>\n",
       "\t<tr><th scope=row>PC_2</th><td>0.66762178</td></tr>\n",
       "\t<tr><th scope=row>PC_3</th><td>0.82558056</td></tr>\n",
       "\t<tr><th scope=row>PC_4</th><td>0.43345696</td></tr>\n",
       "\t<tr><th scope=row>PC_5</th><td>0.60829468</td></tr>\n",
       "\t<tr><th scope=row>PC_6</th><td>0.39766805</td></tr>\n",
       "\t<tr><th scope=row>PC_7</th><td>0.27721691</td></tr>\n",
       "\t<tr><th scope=row>PC_8</th><td>0.33809000</td></tr>\n",
       "\t<tr><th scope=row>PC_9</th><td>0.38499711</td></tr>\n",
       "\t<tr><th scope=row>PC_10</th><td>0.21695784</td></tr>\n",
       "\t<tr><th scope=row>PC_11</th><td>0.42413014</td></tr>\n",
       "\t<tr><th scope=row>PC_12</th><td>0.35486255</td></tr>\n",
       "\t<tr><th scope=row>PC_13</th><td>0.22225317</td></tr>\n",
       "\t<tr><th scope=row>PC_14</th><td>0.18054089</td></tr>\n",
       "\t<tr><th scope=row>PC_15</th><td>0.24669027</td></tr>\n",
       "\t<tr><th scope=row>PC_16</th><td>0.18159560</td></tr>\n",
       "\t<tr><th scope=row>PC_17</th><td>0.24500133</td></tr>\n",
       "\t<tr><th scope=row>PC_18</th><td>0.18119035</td></tr>\n",
       "\t<tr><th scope=row>PC_19</th><td>0.10131888</td></tr>\n",
       "\t<tr><th scope=row>PC_20</th><td>0.10132710</td></tr>\n",
       "\t<tr><th scope=row>PC_21</th><td>0.24341670</td></tr>\n",
       "\t<tr><th scope=row>PC_22</th><td>0.20936323</td></tr>\n",
       "\t<tr><th scope=row>PC_23</th><td>0.16627232</td></tr>\n",
       "\t<tr><th scope=row>PC_24</th><td>0.21927611</td></tr>\n",
       "\t<tr><th scope=row>PC_25</th><td>0.11861346</td></tr>\n",
       "\t<tr><th scope=row>PC_26</th><td>0.11321588</td></tr>\n",
       "\t<tr><th scope=row>PC_27</th><td>0.24374758</td></tr>\n",
       "\t<tr><th scope=row>PC_28</th><td>0.24785825</td></tr>\n",
       "\t<tr><th scope=row>PC_29</th><td>0.17089133</td></tr>\n",
       "\t<tr><th scope=row>PC_30</th><td>0.22669573</td></tr>\n",
       "\t<tr><th scope=row>PC_31</th><td>0.11960263</td></tr>\n",
       "\t<tr><th scope=row>PC_32</th><td>0.09085301</td></tr>\n",
       "\t<tr><th scope=row>PC_33</th><td>0.10020344</td></tr>\n",
       "\t<tr><th scope=row>PC_34</th><td>0.15859941</td></tr>\n",
       "\t<tr><th scope=row>PC_35</th><td>0.12057378</td></tr>\n",
       "\t<tr><th scope=row>PC_36</th><td>0.12936221</td></tr>\n",
       "\t<tr><th scope=row>PC_37</th><td>0.22490159</td></tr>\n",
       "\t<tr><th scope=row>PC_38</th><td>0.15992845</td></tr>\n",
       "\t<tr><th scope=row>PC_39</th><td>0.06268826</td></tr>\n",
       "\t<tr><th scope=row>PC_40</th><td>0.08317393</td></tr>\n",
       "\t<tr><th scope=row>PC_41</th><td>0.09580242</td></tr>\n",
       "\t<tr><th scope=row>PC_42</th><td>0.03435952</td></tr>\n",
       "\t<tr><th scope=row>PC_43</th><td>0.01454082</td></tr>\n",
       "\t<tr><th scope=row>PC_44</th><td>0.09758586</td></tr>\n",
       "\t<tr><th scope=row>PC_45</th><td>0.06220214</td></tr>\n",
       "\t<tr><th scope=row>PC_46</th><td>0.02298565</td></tr>\n",
       "\t<tr><th scope=row>PC_47</th><td>0.04219764</td></tr>\n",
       "\t<tr><th scope=row>PC_48</th><td>0.03904478</td></tr>\n",
       "\t<tr><th scope=row>PC_49</th><td>0.04911955</td></tr>\n",
       "\t<tr><th scope=row>PC_50</th><td>0.02674017</td></tr>\n",
       "</tbody>\n",
       "</table>\n"
      ],
      "text/latex": [
       "A data.frame: 50 x 1\n",
       "\\begin{tabular}{r|l}\n",
       "  & apply.corr\\_matrix..2..max.\\\\\n",
       "  & <dbl>\\\\\n",
       "\\hline\n",
       "\tPC\\_1 & 0.68526809\\\\\n",
       "\tPC\\_2 & 0.66762178\\\\\n",
       "\tPC\\_3 & 0.82558056\\\\\n",
       "\tPC\\_4 & 0.43345696\\\\\n",
       "\tPC\\_5 & 0.60829468\\\\\n",
       "\tPC\\_6 & 0.39766805\\\\\n",
       "\tPC\\_7 & 0.27721691\\\\\n",
       "\tPC\\_8 & 0.33809000\\\\\n",
       "\tPC\\_9 & 0.38499711\\\\\n",
       "\tPC\\_10 & 0.21695784\\\\\n",
       "\tPC\\_11 & 0.42413014\\\\\n",
       "\tPC\\_12 & 0.35486255\\\\\n",
       "\tPC\\_13 & 0.22225317\\\\\n",
       "\tPC\\_14 & 0.18054089\\\\\n",
       "\tPC\\_15 & 0.24669027\\\\\n",
       "\tPC\\_16 & 0.18159560\\\\\n",
       "\tPC\\_17 & 0.24500133\\\\\n",
       "\tPC\\_18 & 0.18119035\\\\\n",
       "\tPC\\_19 & 0.10131888\\\\\n",
       "\tPC\\_20 & 0.10132710\\\\\n",
       "\tPC\\_21 & 0.24341670\\\\\n",
       "\tPC\\_22 & 0.20936323\\\\\n",
       "\tPC\\_23 & 0.16627232\\\\\n",
       "\tPC\\_24 & 0.21927611\\\\\n",
       "\tPC\\_25 & 0.11861346\\\\\n",
       "\tPC\\_26 & 0.11321588\\\\\n",
       "\tPC\\_27 & 0.24374758\\\\\n",
       "\tPC\\_28 & 0.24785825\\\\\n",
       "\tPC\\_29 & 0.17089133\\\\\n",
       "\tPC\\_30 & 0.22669573\\\\\n",
       "\tPC\\_31 & 0.11960263\\\\\n",
       "\tPC\\_32 & 0.09085301\\\\\n",
       "\tPC\\_33 & 0.10020344\\\\\n",
       "\tPC\\_34 & 0.15859941\\\\\n",
       "\tPC\\_35 & 0.12057378\\\\\n",
       "\tPC\\_36 & 0.12936221\\\\\n",
       "\tPC\\_37 & 0.22490159\\\\\n",
       "\tPC\\_38 & 0.15992845\\\\\n",
       "\tPC\\_39 & 0.06268826\\\\\n",
       "\tPC\\_40 & 0.08317393\\\\\n",
       "\tPC\\_41 & 0.09580242\\\\\n",
       "\tPC\\_42 & 0.03435952\\\\\n",
       "\tPC\\_43 & 0.01454082\\\\\n",
       "\tPC\\_44 & 0.09758586\\\\\n",
       "\tPC\\_45 & 0.06220214\\\\\n",
       "\tPC\\_46 & 0.02298565\\\\\n",
       "\tPC\\_47 & 0.04219764\\\\\n",
       "\tPC\\_48 & 0.03904478\\\\\n",
       "\tPC\\_49 & 0.04911955\\\\\n",
       "\tPC\\_50 & 0.02674017\\\\\n",
       "\\end{tabular}\n"
      ],
      "text/markdown": [
       "\n",
       "A data.frame: 50 x 1\n",
       "\n",
       "| <!--/--> | apply.corr_matrix..2..max. &lt;dbl&gt; |\n",
       "|---|---|\n",
       "| PC_1 | 0.68526809 |\n",
       "| PC_2 | 0.66762178 |\n",
       "| PC_3 | 0.82558056 |\n",
       "| PC_4 | 0.43345696 |\n",
       "| PC_5 | 0.60829468 |\n",
       "| PC_6 | 0.39766805 |\n",
       "| PC_7 | 0.27721691 |\n",
       "| PC_8 | 0.33809000 |\n",
       "| PC_9 | 0.38499711 |\n",
       "| PC_10 | 0.21695784 |\n",
       "| PC_11 | 0.42413014 |\n",
       "| PC_12 | 0.35486255 |\n",
       "| PC_13 | 0.22225317 |\n",
       "| PC_14 | 0.18054089 |\n",
       "| PC_15 | 0.24669027 |\n",
       "| PC_16 | 0.18159560 |\n",
       "| PC_17 | 0.24500133 |\n",
       "| PC_18 | 0.18119035 |\n",
       "| PC_19 | 0.10131888 |\n",
       "| PC_20 | 0.10132710 |\n",
       "| PC_21 | 0.24341670 |\n",
       "| PC_22 | 0.20936323 |\n",
       "| PC_23 | 0.16627232 |\n",
       "| PC_24 | 0.21927611 |\n",
       "| PC_25 | 0.11861346 |\n",
       "| PC_26 | 0.11321588 |\n",
       "| PC_27 | 0.24374758 |\n",
       "| PC_28 | 0.24785825 |\n",
       "| PC_29 | 0.17089133 |\n",
       "| PC_30 | 0.22669573 |\n",
       "| PC_31 | 0.11960263 |\n",
       "| PC_32 | 0.09085301 |\n",
       "| PC_33 | 0.10020344 |\n",
       "| PC_34 | 0.15859941 |\n",
       "| PC_35 | 0.12057378 |\n",
       "| PC_36 | 0.12936221 |\n",
       "| PC_37 | 0.22490159 |\n",
       "| PC_38 | 0.15992845 |\n",
       "| PC_39 | 0.06268826 |\n",
       "| PC_40 | 0.08317393 |\n",
       "| PC_41 | 0.09580242 |\n",
       "| PC_42 | 0.03435952 |\n",
       "| PC_43 | 0.01454082 |\n",
       "| PC_44 | 0.09758586 |\n",
       "| PC_45 | 0.06220214 |\n",
       "| PC_46 | 0.02298565 |\n",
       "| PC_47 | 0.04219764 |\n",
       "| PC_48 | 0.03904478 |\n",
       "| PC_49 | 0.04911955 |\n",
       "| PC_50 | 0.02674017 |\n",
       "\n"
      ],
      "text/plain": [
       "      apply.corr_matrix..2..max.\n",
       "PC_1  0.68526809                \n",
       "PC_2  0.66762178                \n",
       "PC_3  0.82558056                \n",
       "PC_4  0.43345696                \n",
       "PC_5  0.60829468                \n",
       "PC_6  0.39766805                \n",
       "PC_7  0.27721691                \n",
       "PC_8  0.33809000                \n",
       "PC_9  0.38499711                \n",
       "PC_10 0.21695784                \n",
       "PC_11 0.42413014                \n",
       "PC_12 0.35486255                \n",
       "PC_13 0.22225317                \n",
       "PC_14 0.18054089                \n",
       "PC_15 0.24669027                \n",
       "PC_16 0.18159560                \n",
       "PC_17 0.24500133                \n",
       "PC_18 0.18119035                \n",
       "PC_19 0.10131888                \n",
       "PC_20 0.10132710                \n",
       "PC_21 0.24341670                \n",
       "PC_22 0.20936323                \n",
       "PC_23 0.16627232                \n",
       "PC_24 0.21927611                \n",
       "PC_25 0.11861346                \n",
       "PC_26 0.11321588                \n",
       "PC_27 0.24374758                \n",
       "PC_28 0.24785825                \n",
       "PC_29 0.17089133                \n",
       "PC_30 0.22669573                \n",
       "PC_31 0.11960263                \n",
       "PC_32 0.09085301                \n",
       "PC_33 0.10020344                \n",
       "PC_34 0.15859941                \n",
       "PC_35 0.12057378                \n",
       "PC_36 0.12936221                \n",
       "PC_37 0.22490159                \n",
       "PC_38 0.15992845                \n",
       "PC_39 0.06268826                \n",
       "PC_40 0.08317393                \n",
       "PC_41 0.09580242                \n",
       "PC_42 0.03435952                \n",
       "PC_43 0.01454082                \n",
       "PC_44 0.09758586                \n",
       "PC_45 0.06220214                \n",
       "PC_46 0.02298565                \n",
       "PC_47 0.04219764                \n",
       "PC_48 0.03904478                \n",
       "PC_49 0.04911955                \n",
       "PC_50 0.02674017                "
      ]
     },
     "metadata": {},
     "output_type": "display_data"
    }
   ],
   "source": [
    "data.frame(apply(corr_matrix,2,max) )"
   ]
  },
  {
   "cell_type": "code",
   "execution_count": null,
   "metadata": {
    "vscode": {
     "languageId": "r"
    }
   },
   "outputs": [],
   "source": []
  }
 ],
 "metadata": {
  "kernelspec": {
   "display_name": "R",
   "language": "R",
   "name": "ir"
  },
  "language_info": {
   "codemirror_mode": "r",
   "file_extension": ".r",
   "mimetype": "text/x-r-source",
   "name": "R",
   "pygments_lexer": "r",
   "version": "4.2.3"
  }
 },
 "nbformat": 4,
 "nbformat_minor": 2
}
