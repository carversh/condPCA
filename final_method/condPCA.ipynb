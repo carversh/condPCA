{
 "cells": [
  {
   "cell_type": "code",
   "execution_count": 111,
   "metadata": {},
   "outputs": [],
   "source": [
    "import pandas as pd\n",
    "import numpy as np\n",
    "import scanpy\n",
    "import scipy\n",
    "from sklearn.decomposition import PCA\n",
    "# from scipy.spatial.distance import cosine\n",
    "# from sklearn.preprocessing import StandardScaler\n",
    "\n"
   ]
  },
  {
   "cell_type": "code",
   "execution_count": 116,
   "metadata": {},
   "outputs": [],
   "source": [
    "# check arguments\n",
    "# check that no columns or rows with all zeros\n",
    "#ensure that factor variables are NOT integers or real\n",
    "# what if no covariates\n",
    "\n",
    "class condPCA(object):\n",
    "    def __init__(self, count_matrix_path, metadata_path, object_columns, vars_to_regress=True):\n",
    "        \"\"\"\n",
    "        Parameters\n",
    "        ----------\n",
    "        count_matrix:\n",
    "            Count matrix that must be QC'd\n",
    "\n",
    "        metadata:\n",
    "            metadata containing cell type labels named \"celltype\"\n",
    "\n",
    "        object_columns:\n",
    "            columns that will be one hot encoded/columns that are factors \n",
    "\n",
    "        vars_to_regress:\n",
    "            list of variables to regress out\n",
    "\n",
    "        \"\"\"\n",
    "        self.count_matrix = scanpy.read(count_matrix_path) # cells x genes, pd.read_csv(count_matrix_path, sep='\\t', header=0, index_col=0)\n",
    "        self.metadata = pd.read_csv(metadata_path, sep='\\t', header=0, index_col=0)\n",
    "        if vars_to_regress:\n",
    "            self.vars_to_regress = self.metadata.columns\n",
    "        else: # if vars_to_regress is a list, convert to pandas core Index object\n",
    "            self.vars_to_regress = pd.Index(vars_to_regress)\n",
    "\n",
    "        # one hot encode necessary metadata variables\n",
    "        self.object_columns = object_columns # obtain columns that must be one hot encoded\n",
    "        self.metadata[self.object_columns] = self.metadata[self.object_columns].astype(object) # convert these columns to objects\n",
    "\n",
    "    def Normalize(self):\n",
    "        \"\"\" \n",
    "        Normalize and take log1p of count data\n",
    "        \"\"\"\n",
    "        scanpy.pp.normalize_total(self.count_matrix, target_sum = 10000) # update scanpy object to normalize all rows, so every cell sums to 10k\n",
    "        scanpy.pp.log1p(self.count_matrix) # log transform\n",
    "\n",
    "    def Standardize(self):\n",
    "        \"\"\" \n",
    "        Standardize count data AND metadata\n",
    "        \"\"\"\n",
    "        # Standardize count data\n",
    "        if scipy.sparse.issparse(self.count_matrix.X):\n",
    "            self.count_matrix.X = self.count_matrix.X.todense()\n",
    "        mean_count = np.mean(self.count_matrix.X, axis=0)\n",
    "        std_count = np.std(self.count_matrix.X, axis=0)\n",
    "        self.standardized_count_data = (self.count_matrix.X - mean_count) / std_count # standardize\n",
    "\n",
    "\n",
    "        # Standardize metadata\n",
    "        self.metadata = self.metadata[self.vars_to_regress] # subset to only variables that you want to regress out\n",
    "        # WARNING IN FOLLOWING LINE BECAUSE CONVERTING OBJECT THAT LOOKS NUMERIC TO BE ONE HOT ENCODED, this is batch\n",
    "        self.metadata = pd.get_dummies(self.metadata, drop_first=True) # Convert factor covariates to dummy variables dropping one column \n",
    "        mean = np.mean(self.metadata, axis=0) # compute mean of each column of metadata\n",
    "        std = np.std(self.metadata, axis=0) # compute standard deviation of each column of metadata\n",
    "\n",
    "        self.standardized_metadata = (self.metadata - mean) / std # standardize\n",
    "        \n",
    "    def _column_wise_regression(self, column): # perform regression of metadata/covariates across all genes\n",
    "        beta = self.inv_cov @ self.standardized_metadata.T @ column\n",
    "        return beta\n",
    "\n",
    "    def fit(self):\n",
    "        self.standardized_metadata = np.c_[np.ones((self.standardized_metadata.shape[0], 1)), self.standardized_metadata] # append ones to standardized meta for intercept\n",
    "        self.inv_cov = np.linalg.pinv(np.matmul(self.standardized_metadata.T, self.standardized_metadata) ) # compute inverse of np.matmul(A^T, A) where A is the standardized metadata or covariates\n",
    "        betas = np.apply_along_axis(self._column_wise_regression, axis=0, arr=self.standardized_count_data) # compute betas per gene\n",
    "        prediction = np.matmul(self.standardized_metadata, betas) # compute prediction\n",
    "        self.standardized_residual = self.standardized_count_data - prediction # compute residual\n",
    "        # standardize residual:\n",
    "        mean_resid = np.mean(self.standardized_residual, axis=0)\n",
    "        std_resid = np.std(self.standardized_residual, axis=0)\n",
    "        self.standardized_residual = (self.standardized_residual - mean_resid) / std_resid # standardize by gene\n",
    "        # return standardized residual as a dataframe with gene and cell names:\n",
    "        self.standardized_residual = pd.DataFrame(self.standardized_residual, index = list(self.count_matrix.obs_names), columns = list(self.count_matrix.var_names))\n",
    "\n",
    "        # perform PCA\n",
    "        pca = PCA(n_components=200) # instantiate PCA with hyperparameters\n",
    "        self.cell_embeddings = pca.fit_transform(self.standardized_residual) # projections (of input data onto eigenvectors)\n",
    "        self.gene_loadings = pca.components_ # retrieve eigenvectors\n",
    "        \n",
    "\n",
    "        \n",
    "\n",
    "\n",
    "        \n",
    "        "
   ]
  },
  {
   "cell_type": "code",
   "execution_count": 117,
   "metadata": {},
   "outputs": [
    {
     "name": "stderr",
     "output_type": "stream",
     "text": [
      "/var/folders/1b/d3mmyllj1jg4btvm4vqztkdh0000gp/T/ipykernel_1905/1976776286.py:57: FutureWarning: In a future version, the Index constructor will not infer numeric dtypes when passed object-dtype sequences (matching Series behavior)\n",
      "  self.metadata = pd.get_dummies(self.metadata, drop_first=True) # Convert factor covariates to dummy variables dropping one column\n"
     ]
    }
   ],
   "source": [
    "# instantiate class\n",
    "test = condPCA(count_matrix_path=\"/Users/shayecarver/condPCA/final_method/test_matrix.txt\", metadata_path=\"/Users/shayecarver/condPCA/final_method/test_metadata.txt\", object_columns=['Batch', 'Sex','celltype'])\n",
    "test.Normalize()\n",
    "test.Standardize()\n",
    "test.fit()"
   ]
  },
  {
   "cell_type": "code",
   "execution_count": 119,
   "metadata": {},
   "outputs": [
    {
     "data": {
      "text/plain": [
       "(5000, 200)"
      ]
     },
     "execution_count": 119,
     "metadata": {},
     "output_type": "execute_result"
    }
   ],
   "source": [
    "test.gene_loadings.shape\n",
    "test.cell_embeddings.shape"
   ]
  },
  {
   "cell_type": "code",
   "execution_count": null,
   "metadata": {},
   "outputs": [],
   "source": []
  }
 ],
 "metadata": {
  "kernelspec": {
   "display_name": "AM231_V2",
   "language": "python",
   "name": "python3"
  },
  "language_info": {
   "codemirror_mode": {
    "name": "ipython",
    "version": 3
   },
   "file_extension": ".py",
   "mimetype": "text/x-python",
   "name": "python",
   "nbconvert_exporter": "python",
   "pygments_lexer": "ipython3",
   "version": "3.8.13"
  }
 },
 "nbformat": 4,
 "nbformat_minor": 2
}
