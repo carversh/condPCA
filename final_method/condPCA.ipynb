{
 "cells": [
  {
   "cell_type": "code",
   "execution_count": 187,
   "metadata": {},
   "outputs": [],
   "source": [
    "import pandas as pd\n",
    "import numpy as np\n",
    "import scanpy\n",
    "from scipy.spatial.distance import cosine\n",
    "from sklearn.preprocessing import StandardScaler\n",
    "\n"
   ]
  },
  {
   "cell_type": "code",
   "execution_count": 151,
   "metadata": {},
   "outputs": [],
   "source": [
    "# check arguments\n",
    "# check that no columns or rows with all zeros\n",
    "#ensure that factor variables are NOT integers or real\n",
    "\n",
    "class condPCA(object):\n",
    "    def __init__(self, count_matrix_path, metadata_path, object_columns, vars_to_regress=True):\n",
    "        \"\"\"\n",
    "        Parameters\n",
    "        ----------\n",
    "        count_matrix:\n",
    "            Count matrix that must be QC'd\n",
    "\n",
    "        metadata:\n",
    "            metadata containing cell type labels named \"celltype\"\n",
    "\n",
    "        object_columns:\n",
    "            columns that will be one hot encoded/columns that are factors \n",
    "\n",
    "        vars_to_regress:\n",
    "            list of variables to regress out\n",
    "\n",
    "        \"\"\"\n",
    "        self.count_matrix = scanpy.read(count_matrix_path) # cells x genes, pd.read_csv(count_matrix_path, sep='\\t', header=0, index_col=0)\n",
    "        self.metadata = pd.read_csv(metadata_path, sep='\\t', header=0, index_col=0)\n",
    "        if vars_to_regress:\n",
    "            self.vars_to_regress = self.metadata.columns\n",
    "        else: # if vars_to_regress is a list, convert to pandas core Index object\n",
    "            self.vars_to_regress = pd.Index(vars_to_regress)\n",
    "\n",
    "        # one hot encode necessary metadata variables\n",
    "        self.object_columns = object_columns # obtain columns that must be one hot encoded\n",
    "        self.metadata[self.object_columns] = self.metadata[self.object_columns].astype(object) # convert these columns to objects\n",
    "\n",
    "    def Normalize(self):\n",
    "        \"\"\" \n",
    "        Normalize count data\n",
    "        \"\"\"\n",
    "        scanpy.pp.normalize_total(self.count_matrix, target_sum = 10000) # update scanpy object to normalize all rows, so every cell sums to 10k\n",
    "\n",
    "    def Standardize(self):\n",
    "        \"\"\" \n",
    "        Standardize count data AND metadata\n",
    "        \"\"\"\n",
    "        # Standardize count data\n",
    "        mean_count = np.mean(self.count_matrix.X, axis=0)\n",
    "        std_count = np.std(self.count_matrix.X, axis=0)\n",
    "        self.standardized_count_data = (self.count_matrix.X - mean_count) / std_count # standardize\n",
    "\n",
    "\n",
    "        # Standardize metadata\n",
    "        self.metadata = self.metadata[self.vars_to_regress] # subset to only variables that you want to regress out\n",
    "        # WARNING IN FOLLOWING LINE BECAUSE CONVERTING OBJECT THAT LOOKS NUMERIC TO BE ONE HOT ENCODED, this is batch\n",
    "        self.metadata = pd.get_dummies(self.metadata, drop_first=True) # Convert factor covariates to dummy variables dropping one column \n",
    "        mean = np.mean(self.metadata, axis=0) # compute mean of each column of metadata\n",
    "        std = np.std(self.metadata, axis=0) # compute standard deviation of each column of metadata\n",
    "\n",
    "        self.standardized_metadata = (self.metadata - mean) / std # standardize\n",
    "        \n",
    "\n",
    "    def fit(self):\n",
    "        self.standardized_data = np.c_[np.ones((self.standardized_data.shape[0], 1)), self.standardized_data] # append ones to standardized meta for intercept\n",
    "        "
   ]
  },
  {
   "cell_type": "code",
   "execution_count": 152,
   "metadata": {},
   "outputs": [
    {
     "name": "stderr",
     "output_type": "stream",
     "text": [
      "/var/folders/1b/d3mmyllj1jg4btvm4vqztkdh0000gp/T/ipykernel_36791/3622826009.py:53: FutureWarning: In a future version, the Index constructor will not infer numeric dtypes when passed object-dtype sequences (matching Series behavior)\n",
      "  self.metadata = pd.get_dummies(self.metadata, drop_first=True) # Convert factor covariates to dummy variables dropping one column\n"
     ]
    }
   ],
   "source": [
    "# instantiate class\n",
    "test = condPCA(count_matrix_path=\"/Users/shayecarver/condPCA/final_method/test_matrix.txt\", metadata_path=\"/Users/shayecarver/condPCA/final_method/test_metadata.txt\", object_columns=['Batch', 'Sex','celltype'])\n",
    "test.Normalize()\n",
    "test.Standardize()"
   ]
  },
  {
   "cell_type": "code",
   "execution_count": 169,
   "metadata": {},
   "outputs": [
    {
     "data": {
      "text/plain": [
       "(5000, 2000)"
      ]
     },
     "execution_count": 169,
     "metadata": {},
     "output_type": "execute_result"
    }
   ],
   "source": [
    "\n",
    "pd.DataFrame(test.standardized_count_data).values.shape"
   ]
  },
  {
   "cell_type": "code",
   "execution_count": 160,
   "metadata": {},
   "outputs": [],
   "source": [
    "df = pd.read_csv(\"/Users/shayecarver/condPCA/final_method/scale_counts.txt\", sep='\\t', header=0, index_col=0)"
   ]
  },
  {
   "cell_type": "code",
   "execution_count": 168,
   "metadata": {},
   "outputs": [
    {
     "data": {
      "text/plain": [
       "(5000, 2000)"
      ]
     },
     "execution_count": 168,
     "metadata": {},
     "output_type": "execute_result"
    }
   ],
   "source": [
    "df.T.values.shape"
   ]
  },
  {
   "cell_type": "code",
   "execution_count": 188,
   "metadata": {},
   "outputs": [],
   "source": [
    "\n",
    "\n",
    "scaler = StandardScaler()\n",
    "\n",
    "# Fit the scaler to the data and transform the data\n",
    "scaled_data = scaler.fit_transform(test.count_matrix.X)"
   ]
  },
  {
   "cell_type": "code",
   "execution_count": 189,
   "metadata": {},
   "outputs": [
    {
     "data": {
      "text/plain": [
       "array([[-0.16112103, -0.14701271, -0.11706316, ..., -0.11785106,\n",
       "        -0.17115065, -0.3545562 ],\n",
       "       [-0.16112103, -0.14701271, -0.11706316, ..., -0.11785106,\n",
       "        -0.17115065,  0.84766704],\n",
       "       [-0.16112103, -0.14701271, -0.11706316, ..., -0.11785106,\n",
       "        -0.17115065,  1.3561352 ],\n",
       "       ...,\n",
       "       [-0.16112103, -0.14701271, -0.11706316, ..., -0.11785106,\n",
       "        -0.17115065,  2.8036437 ],\n",
       "       [-0.16112103, -0.14701271, -0.11706316, ..., -0.11785106,\n",
       "        -0.17115065, -0.3545562 ],\n",
       "       [-0.16112103, -0.14701271, -0.11706316, ..., -0.11785106,\n",
       "         0.12553231,  0.04144233]], dtype=float32)"
      ]
     },
     "execution_count": 189,
     "metadata": {},
     "output_type": "execute_result"
    }
   ],
   "source": [
    "scaled_data"
   ]
  },
  {
   "cell_type": "code",
   "execution_count": 190,
   "metadata": {},
   "outputs": [
    {
     "data": {
      "text/plain": [
       "array([[-0.1611161 , -0.14700814, -0.11706336, ..., -0.11785103,\n",
       "        -0.17114605, -0.35456222],\n",
       "       [-0.1611161 , -0.14700814, -0.11706336, ..., -0.11785103,\n",
       "        -0.17114605,  0.8476815 ],\n",
       "       [-0.1611161 , -0.14700814, -0.11706336, ..., -0.11785103,\n",
       "        -0.17114605,  1.3561585 ],\n",
       "       ...,\n",
       "       [-0.1611161 , -0.14700814, -0.11706336, ..., -0.11785103,\n",
       "        -0.17114605,  2.8036914 ],\n",
       "       [-0.1611161 , -0.14700814, -0.11706336, ..., -0.11785103,\n",
       "        -0.17114605, -0.35456222],\n",
       "       [-0.1611161 , -0.14700814, -0.11706336, ..., -0.11785103,\n",
       "         0.12552899,  0.04144307]], dtype=float32)"
      ]
     },
     "execution_count": 190,
     "metadata": {},
     "output_type": "execute_result"
    }
   ],
   "source": [
    "test.standardized_count_data"
   ]
  },
  {
   "cell_type": "code",
   "execution_count": 183,
   "metadata": {},
   "outputs": [
    {
     "data": {
      "text/plain": [
       "array([[1.        , 0.85052399],\n",
       "       [0.85052399, 1.        ]])"
      ]
     },
     "execution_count": 183,
     "metadata": {},
     "output_type": "execute_result"
    }
   ],
   "source": [
    "#cosine_similarity = 1 - cosine(df.T.values, pd.DataFrame(test.standardized_count_data).values)\n",
    "\n",
    "np.corrcoef(df.T.values[:,4] ,pd.DataFrame(test.standardized_count_data).values[:,4])\n"
   ]
  },
  {
   "cell_type": "markdown",
   "metadata": {},
   "source": [
    "test."
   ]
  }
 ],
 "metadata": {
  "kernelspec": {
   "display_name": "AM231_V2",
   "language": "python",
   "name": "python3"
  },
  "language_info": {
   "codemirror_mode": {
    "name": "ipython",
    "version": 3
   },
   "file_extension": ".py",
   "mimetype": "text/x-python",
   "name": "python",
   "nbconvert_exporter": "python",
   "pygments_lexer": "ipython3",
   "version": "3.8.13"
  }
 },
 "nbformat": 4,
 "nbformat_minor": 2
}
