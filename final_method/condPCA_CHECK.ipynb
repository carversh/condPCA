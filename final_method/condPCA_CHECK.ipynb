{
 "cells": [
  {
   "cell_type": "code",
   "execution_count": 51,
   "metadata": {
    "vscode": {
     "languageId": "r"
    }
   },
   "outputs": [],
   "source": [
    "library(Seurat)\n",
    "library(ggplot2)\n",
    "library(umap)\n",
    "library(glue)"
   ]
  },
  {
   "cell_type": "code",
   "execution_count": 58,
   "metadata": {
    "vscode": {
     "languageId": "r"
    }
   },
   "outputs": [
    {
     "name": "stderr",
     "output_type": "stream",
     "text": [
      "Centering and scaling data matrix\n",
      "\n"
     ]
    }
   ],
   "source": [
    "expression_matrix = read.csv(\"/Users/shayecarver/condPCA/final_method/test_matrix.txt\", sep=\"\\t\", row.names=1 )\n",
    "seurat_object <- CreateSeuratObject(counts = t(expression_matrix) )\n",
    "metadata_df = read.csv(\"/Users/shayecarver/condPCA/final_method/test_metadata.txt\", sep=\"\\t\", row.names=1)\n",
    "seurat_object <- AddMetaData(object = seurat_object, metadata = metadata_df)\n",
    "seurat_object = NormalizeData(seurat_object, normalization.method = \"LogNormalize\", scale.factor = 10000)\n",
    "seurat_object = FindVariableFeatures(seurat_object, nfeatures = 2000)\n",
    "seurat_object <- ScaleData(seurat_object, features = seurat_object@assays$RNA@var.features, scale.max = 999999999999)\n"
   ]
  },
  {
   "cell_type": "code",
   "execution_count": 59,
   "metadata": {
    "vscode": {
     "languageId": "r"
    }
   },
   "outputs": [],
   "source": [
    "# standardize data in base R: batch, age, sex\n",
    "\n",
    "standardized = t(as.matrix(seurat_object@assays$RNA@scale.data) )\n",
    "\n",
    "for ( i in 1:dim(standardized)[2] ) {\n",
    "    standardized[,i] = resid(lm(standardized[,i] ~ as.factor(seurat_object@meta.data$Batch) + scale(seurat_object@meta.data$Age) + as.factor(\n",
    "seurat_object@meta.data$Sex) ))\n",
    "}\n",
    "\n",
    "#write.table(standardized, \"/Users/shayecarver/condPCA/final_method/base_R_standardized_residual_test_matrix.txt\", sep = \"\\t\")\n"
   ]
  },
  {
   "cell_type": "code",
   "execution_count": 61,
   "metadata": {
    "vscode": {
     "languageId": "r"
    }
   },
   "outputs": [
    {
     "data": {
      "text/html": [
       "<style>\n",
       ".list-inline {list-style: none; margin:0; padding: 0}\n",
       ".list-inline>li {display: inline-block}\n",
       ".list-inline>li:not(:last-child)::after {content: \"\\00b7\"; padding: 0 .5ex}\n",
       "</style>\n",
       "<ol class=list-inline><li>5000</li><li>2000</li></ol>\n"
      ],
      "text/latex": [
       "\\begin{enumerate*}\n",
       "\\item 5000\n",
       "\\item 2000\n",
       "\\end{enumerate*}\n"
      ],
      "text/markdown": [
       "1. 5000\n",
       "2. 2000\n",
       "\n",
       "\n"
      ],
      "text/plain": [
       "[1] 5000 2000"
      ]
     },
     "metadata": {},
     "output_type": "display_data"
    }
   ],
   "source": [
    "dim(standardized)"
   ]
  },
  {
   "cell_type": "code",
   "execution_count": 65,
   "metadata": {
    "vscode": {
     "languageId": "r"
    }
   },
   "outputs": [
    {
     "data": {
      "text/html": [
       "<style>\n",
       ".list-inline {list-style: none; margin:0; padding: 0}\n",
       ".list-inline>li {display: inline-block}\n",
       ".list-inline>li:not(:last-child)::after {content: \"\\00b7\"; padding: 0 .5ex}\n",
       "</style>\n",
       "<ol class=list-inline><li>2000</li><li>50</li></ol>\n"
      ],
      "text/latex": [
       "\\begin{enumerate*}\n",
       "\\item 2000\n",
       "\\item 50\n",
       "\\end{enumerate*}\n"
      ],
      "text/markdown": [
       "1. 2000\n",
       "2. 50\n",
       "\n",
       "\n"
      ],
      "text/plain": [
       "[1] 2000   50"
      ]
     },
     "metadata": {},
     "output_type": "display_data"
    }
   ],
   "source": [
    "# perform PCA on standardized data\n",
    "\n",
    "pca = prcomp( standardized , center = FALSE, scale = FALSE )\n",
    "dim(pca$rotation[,1:50])\n",
    "eigenvectors <- pca$rotation[,1:50]\n",
    "# Extract eigenvalues\n",
    "eigenvalues <- pca$sdev^2\n",
    "\n",
    "\n",
    "write.table(eigenvectors,\"/Users/shayecarver/condPCA/final_method/base_R_PCA_STAND.txt\", sep = \"\\t\")\n",
    "write.table(eigenvalues,\"/Users/shayecarver/condPCA/final_method/base_R_PCA_STAND_eigenvalues.txt\", sep = \"\\t\")\n",
    "\n",
    "# df.pca_r = data.frame(\n",
    "#     \"PC1\" = pca$rotation[,1] , \n",
    "#     \"PC2\" = pca$rotation[,2] )\n",
    "\n",
    "# # perform umap on df.pca_r\n",
    "# umap_output = umap(df.pca_r)\n",
    "\n",
    "# # Extract the first two dimensions from the UMAP output\n",
    "# umap_embeddings <- umap_output$layout[, 1:2]\n",
    "\n",
    "# # Create a new data frame with UMAP embeddings\n",
    "# umap_df <- data.frame(UMAP1 = umap_embeddings[, 1], UMAP2 = umap_embeddings[, 2])\n",
    "\n",
    "# # Plot the first two UMAP embeddings\n",
    "# ggplot(umap_df, aes(x = UMAP1, y = UMAP2)) +\n",
    "#   geom_point() +\n",
    "#   labs(title = \"UMAP: First Two Embeddings\")\n",
    "\n",
    "#   # plot the initial two PCs of PCA\n",
    "# ggplot(df.pca_r, aes(x=PC1, y=PC2 )) + geom_point(alpha=0.5) + theme_minimal()\n",
    "\n",
    "\n",
    "\n",
    "\n"
   ]
  },
  {
   "cell_type": "code",
   "execution_count": 66,
   "metadata": {
    "vscode": {
     "languageId": "r"
    }
   },
   "outputs": [],
   "source": [
    "standardized = t(as.matrix(seurat_object@assays$RNA@scale.data) )\n",
    "\n",
    "for ( i in 1:dim(standardized)[2] ) {\n",
    "    standardized[,i] = resid(lm(standardized[,i] ~ as.factor(seurat_object@meta.data$celltype) + as.factor(seurat_object@meta.data$Batch) + scale(seurat_object@meta.data$Age) + as.factor(\n",
    "seurat_object@meta.data$Sex) ))\n",
    "}\n",
    "#write.table(standardized, \"/Users/shayecarver/condPCA/final_method/base_R_standardized_residual_test_matrix_w_CELLTYPE.txt\", sep = \"\\t\")\n",
    "pca = prcomp( standardized , center = FALSE, scale = FALSE )\n",
    "\n",
    "eigenvectors <- pca$rotation[,1:50]\n",
    "# Extract eigenvalues\n",
    "eigenvalues <- pca$sdev^2\n",
    "\n",
    "\n",
    "write.table(eigenvectors,\"/Users/shayecarver/condPCA/final_method/base_R_PCA_COND.txt\", sep = \"\\t\")\n",
    "write.table(eigenvalues,\"/Users/shayecarver/condPCA/final_method/base_R_PCA_COND_eigenvalues.txt\", sep = \"\\t\")\n",
    "# df.pca_r = data.frame(\n",
    "#     \"PC1\" = pca$rotation[,1] , \n",
    "#     \"PC2\" = pca$rotation[,2] )\n",
    "\n",
    "# ggplot(df.pca_r, aes(x=PC1, y=PC2 )) + geom_point(alpha=0.5) + theme_minimal()\n",
    "\n",
    "# # perform umap on df.pca_r\n",
    "# umap_output = umap(df.pca_r)\n",
    "\n",
    "# # Extract the first two dimensions from the UMAP output\n",
    "# umap_embeddings <- umap_output$layout[, 1:2]\n",
    "\n",
    "# # Create a new data frame with UMAP embeddings\n",
    "# umap_df <- data.frame(UMAP1 = umap_embeddings[, 1], UMAP2 = umap_embeddings[, 2])\n",
    "\n",
    "# # Plot the first two UMAP embeddings\n",
    "# ggplot(umap_df, aes(x = UMAP1, y = UMAP2)) +\n",
    "#   geom_point() +\n",
    "#   labs(title = \"UMAP: First Two Embeddings\")\n"
   ]
  },
  {
   "cell_type": "code",
   "execution_count": 56,
   "metadata": {
    "vscode": {
     "languageId": "r"
    }
   },
   "outputs": [
    {
     "name": "stdout",
     "output_type": "stream",
     "text": [
      "[1] \"ODC\"\n"
     ]
    },
    {
     "name": "stderr",
     "output_type": "stream",
     "text": [
      "Centering and scaling data matrix\n",
      "\n"
     ]
    }
   ],
   "source": [
    "# for ( i in 1:length(celltypes) ) {\n",
    "CT = celltypes[1]\n",
    "print(CT)\n",
    "\n",
    "expression_matrix = read.csv(\"/Users/shayecarver/condPCA/final_method/test_matrix.txt\", sep=\"\\t\", row.names=1 )\n",
    "seurat_object <- CreateSeuratObject(counts = t(expression_matrix) )\n",
    "metadata_df = read.csv(\"/Users/shayecarver/condPCA/final_method/test_metadata.txt\", sep=\"\\t\", row.names=1)\n",
    "seurat_object <- AddMetaData(object = seurat_object, metadata = metadata_df)\n",
    "\n",
    "celltypes = unique(seurat_object@meta.data$celltype)\n",
    "\n",
    "my_method <- read.table(\"/Users/shayecarver/condPCA/final_method/output.txt\", sep = \"\\t\", header = TRUE, row.names = 1)\n",
    "vargenes = colnames(my_method)\n",
    "\n",
    "\n",
    "seurat_object_subset = subset(seurat_object, subset = celltype == CT)\n",
    "\n",
    "seurat_object_subset = NormalizeData(seurat_object_subset, normalization.method = \"LogNormalize\", scale.factor = 10000)\n",
    "#seurat_object_subset = FindVariableFeatures(seurat_object_subset, nfeatures = 500)\n",
    "#seurat_object_subset <- ScaleData(seurat_object_subset, features = seurat_object_subset@assays$RNA@var.features, scale.max = 999999999999)\n",
    "seurat_object_subset <- ScaleData(seurat_object_subset, features = vargenes, scale.max = 999999999999)\n",
    "\n",
    "sub_metadata = seurat_object@meta.data[seurat_object@meta.data$celltype == \"ODC\",]\n",
    "\n",
    "standardized = t(as.matrix(seurat_object_subset@assays$RNA@scale.data) )\n",
    "\n",
    "for ( i in 1:dim(standardized)[2] ) {\n",
    "    standardized[,i] = resid(lm(standardized[,i] ~ as.factor(sub_metadata$Batch) + scale(sub_metadata$Age) + as.factor(\n",
    "sub_metadata$Sex) ))\n",
    "}\n",
    "\n",
    "write.table(standardized, glue(\"/Users/shayecarver/condPCA/final_method/base_R_standardized_residual_iter_PCA_{CT}_SCANPY_VARGENES_NOT_SEURAT.txt\"), sep = \"\\t\")"
   ]
  }
 ],
 "metadata": {
  "kernelspec": {
   "display_name": "R",
   "language": "R",
   "name": "ir"
  },
  "language_info": {
   "codemirror_mode": "r",
   "file_extension": ".r",
   "mimetype": "text/x-r-source",
   "name": "R",
   "pygments_lexer": "r",
   "version": "4.2.3"
  }
 },
 "nbformat": 4,
 "nbformat_minor": 2
}
